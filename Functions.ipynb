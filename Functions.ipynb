{
  "nbformat": 4,
  "nbformat_minor": 0,
  "metadata": {
    "colab": {
      "provenance": []
    },
    "kernelspec": {
      "name": "python3",
      "display_name": "Python 3"
    },
    "language_info": {
      "name": "python"
    }
  },
  "cells": [
    {
      "cell_type": "markdown",
      "source": [
        "Q1. What is the difference between a function and a method in Python ?\n",
        ">- ​A function is a standalone block of reusable code. It can be called by its name from anywhere in the program, as long as it's within the scope where it was defined. Functions don't need to be associated with an object to be used.\n",
        ">- A method is a function that is associated with a specific object or class. To call a method, you must use the object's name followed by a dot, and then the method's name. The method automatically receives the object it belongs to as its first argument, which is conventionally named self."
      ],
      "metadata": {
        "id": "7MArjwY-qvFG"
      }
    },
    {
      "cell_type": "code",
      "execution_count": null,
      "metadata": {
        "id": "LFGg26U2p_E7"
      },
      "outputs": [],
      "source": [
        "#Example of a function\n",
        "def add_numbers(a, b):\n",
        "    return a + b\n",
        "    print(add_numbers(5, 3))\n",
        "\n",
        "#Example of a method\n",
        "class Calculator:\n",
        "    def add_numbers(self, a, b):\n",
        "        return a + b\n",
        "        print(Calculator.add_numbers(5, 3))\n",
        "\n"
      ]
    },
    {
      "cell_type": "markdown",
      "source": [
        "Q2. Explain the concept of function arguments and parameters in Python ?\n",
        ">- Arguments\n",
        "\n",
        "Arguments are the actual values or variables that you pass to the function when you call it. These values are assigned to the function's parameters\n",
        ">- Parameters\n",
        "\n",
        "Parameters are the names you list in the function's definition. They act as placeholders for the data the function needs to work with. Think of them as variables that are local to the function"
      ],
      "metadata": {
        "id": "LPx-EA1Uqt7m"
      }
    },
    {
      "cell_type": "code",
      "source": [
        "# Function with parameters\n",
        "def greet(name):   # 'name' is a parameter\n",
        "    print(\"Hello\", name)\n",
        "\n",
        "# Function call with argument\n",
        "greet(\"Shruti\")    # \"Shruti\" is an argument\n",
        "greet(\"Rahul\")     # \"Rahul\" is an argument"
      ],
      "metadata": {
        "colab": {
          "base_uri": "https://localhost:8080/"
        },
        "id": "kNfwWSAZxcqA",
        "outputId": "31f30eeb-79d4-4364-878b-6e08519a06e3"
      },
      "execution_count": null,
      "outputs": [
        {
          "output_type": "stream",
          "name": "stdout",
          "text": [
            "Hello Shruti\n",
            "Hello Rahul\n"
          ]
        }
      ]
    },
    {
      "cell_type": "markdown",
      "source": [
        "Q3. What are the different ways to define and call a function in Python ?\n",
        ">- Defining a Function\n",
        "In Python, you define a function using the def keyword, followed by the function's name, parentheses (), and a colon :. The code block for the function must be indented.\n",
        "\n",
        ">- To call a function, you simply use its name followed by parentheses (). If the function has parameters, you must provide arguments inside the parentheses."
      ],
      "metadata": {
        "id": "BzrLjNKWy8hU"
      }
    },
    {
      "cell_type": "code",
      "source": [
        "# Normal Function(with parameter)\n",
        "def greet(name):\n",
        "  print(\"Hello\",name)\n",
        "  greet(\"Shruti\")\n",
        "\n",
        "#Function with default parameter\n",
        "def greet(name=\"Friend\"):\n",
        "  print(\"Hello\", name)\n",
        "greet(\"Rahul\")\n",
        "greet()"
      ],
      "metadata": {
        "colab": {
          "base_uri": "https://localhost:8080/"
        },
        "id": "OtEpcLF7yTSf",
        "outputId": "c67676ed-b043-4a34-8662-c5c2755acf43"
      },
      "execution_count": null,
      "outputs": [
        {
          "output_type": "stream",
          "name": "stdout",
          "text": [
            "Hello Rahul\n",
            "Hello Friend\n"
          ]
        }
      ]
    },
    {
      "cell_type": "code",
      "source": [
        "# Function with multiple parameters\n",
        "def add_numbers(a, b):\n",
        "    return a + b\n",
        "result = add_numbers(5, 3)\n",
        "print(result)"
      ],
      "metadata": {
        "colab": {
          "base_uri": "https://localhost:8080/"
        },
        "id": "uZKBYsqf2Lot",
        "outputId": "093a6cd9-ce7b-4a95-a0d3-f918dfd690e1"
      },
      "execution_count": null,
      "outputs": [
        {
          "output_type": "stream",
          "name": "stdout",
          "text": [
            "8\n"
          ]
        }
      ]
    },
    {
      "cell_type": "code",
      "source": [
        "# Function with variable length arguments\n",
        "def print_numbers(*args):\n",
        "    for num in args:\n",
        "        print(num)\n",
        "print_numbers(1, 2, 3, 4)"
      ],
      "metadata": {
        "colab": {
          "base_uri": "https://localhost:8080/"
        },
        "id": "qgCCuClq3cid",
        "outputId": "2ed7bb3b-c077-4630-fcca-c915cea4afd3"
      },
      "execution_count": null,
      "outputs": [
        {
          "output_type": "stream",
          "name": "stdout",
          "text": [
            "1\n",
            "2\n",
            "3\n",
            "4\n"
          ]
        }
      ]
    },
    {
      "cell_type": "code",
      "source": [
        "# Function without parameters\n",
        "def print_hello():\n",
        "    print(\"Hello\")\n",
        "print_hello()"
      ],
      "metadata": {
        "colab": {
          "base_uri": "https://localhost:8080/"
        },
        "id": "Uv2WYc-Z3q_q",
        "outputId": "5e428a0b-f9f7-4c1d-f8ab-818f132e3e36"
      },
      "execution_count": null,
      "outputs": [
        {
          "output_type": "stream",
          "name": "stdout",
          "text": [
            "Hello\n"
          ]
        }
      ]
    },
    {
      "cell_type": "code",
      "source": [
        "# Lambda function\n",
        "add_numbers = lambda a, b: a + b\n",
        "result = add_numbers(5, 3)\n",
        "print(result)"
      ],
      "metadata": {
        "colab": {
          "base_uri": "https://localhost:8080/"
        },
        "id": "yLwFj89B3_i3",
        "outputId": "54f76eef-5c8f-4d66-eee3-f5cfca77b61c"
      },
      "execution_count": null,
      "outputs": [
        {
          "output_type": "stream",
          "name": "stdout",
          "text": [
            "8\n"
          ]
        }
      ]
    },
    {
      "cell_type": "markdown",
      "source": [
        "Q4. What is the purpose of the `return` statement in a Python function?\n",
        "\n",
        ">- The primary purpose of the return statement in a Python function is to exit the function and send a value back to where the function was called from. It's how a function \"gives back\" a result."
      ],
      "metadata": {
        "id": "1oEgGJ8i4M1M"
      }
    },
    {
      "cell_type": "code",
      "source": [
        "def add(a,b):\n",
        "  print(a+b) #only prints, does not return\n",
        "\n",
        "result = add(5, 3)\n",
        "print(result)"
      ],
      "metadata": {
        "colab": {
          "base_uri": "https://localhost:8080/"
        },
        "id": "ZkoQvyLs4Jr2",
        "outputId": "eadb8f1c-e5ae-46df-c978-40f9db5b689e"
      },
      "execution_count": null,
      "outputs": [
        {
          "output_type": "stream",
          "name": "stdout",
          "text": [
            "8\n",
            "None\n"
          ]
        }
      ]
    },
    {
      "cell_type": "markdown",
      "source": [
        "Q5. What are iterators in Python and how do they differ from\n",
        "iterables?\n",
        ">- An iterator is an object representing a steam of data an return a the data one by one.\n",
        "\n",
        ">-  difference\n",
        "\n",
        "   itrrable: can be looped over but doesn't remember state.\n",
        "\n",
        "  iterator: generated from iterable using iter(), remembers position, gives items one by onr"
      ],
      "metadata": {
        "id": "AbJ8YTrj5x0Q"
      }
    },
    {
      "cell_type": "code",
      "source": [
        "nums = [1,2 ,3] #iterable\n",
        "nums_iter = iter(nums) #iterator\n",
        "print(next(nums_iter))\n",
        "print(next(nums_iter))\n",
        "print(next(nums_iter))"
      ],
      "metadata": {
        "id": "BQxfMS2d5YBg",
        "colab": {
          "base_uri": "https://localhost:8080/"
        },
        "outputId": "a12d4134-8243-4b10-8c49-2d276476fc4a"
      },
      "execution_count": null,
      "outputs": [
        {
          "output_type": "stream",
          "name": "stdout",
          "text": [
            "1\n",
            "2\n",
            "3\n"
          ]
        }
      ]
    },
    {
      "cell_type": "markdown",
      "source": [
        "Q6. Explain the concept of generators in Python and how they are defined.\n",
        ">- A generator is a special type of iterator that is created using a function with yield.\n",
        "\n",
        ">- how to define a generator\n",
        "\n",
        "1. Use def to define a function.\n",
        "\n",
        "2. Use yield instead of return."
      ],
      "metadata": {
        "id": "WWFsY-6M97KC"
      }
    },
    {
      "cell_type": "code",
      "source": [
        "def count_up_to(n):\n",
        "  i = 1\n",
        "  while i <= n:\n",
        "    yield i\n",
        "    i += 1\n",
        "counter = count_up_to(5)\n",
        "for num in counter:\n",
        "  print(num)\n"
      ],
      "metadata": {
        "colab": {
          "base_uri": "https://localhost:8080/"
        },
        "id": "HrgnAKva9YPK",
        "outputId": "3d23479e-37a6-4256-80e7-e6429958d95d"
      },
      "execution_count": null,
      "outputs": [
        {
          "output_type": "stream",
          "name": "stdout",
          "text": [
            "1\n",
            "2\n",
            "3\n",
            "4\n",
            "5\n"
          ]
        }
      ]
    },
    {
      "cell_type": "markdown",
      "source": [
        "Q7.  What are the advantages of using generators over regular functions ?\n",
        ">- Advantages of generators over regular functions\n",
        "\n",
        "1. Memory Efficient - They don't store all values in memory, they generate values one by one.\n",
        "\n",
        "2. Lazy Evalution - Values are produced only when needed.\n",
        "\n",
        "3. Infinite Sequences - Can represent endless data streams without memory issues.\n",
        "\n",
        "4. Clean Code - Easier to write than using classes for iterators."
      ],
      "metadata": {
        "id": "8_NIS3kZAvyu"
      }
    },
    {
      "cell_type": "code",
      "source": [
        "def square_list(n):\n",
        "  result = []\n",
        "  for i in range(n):\n",
        "    result.append(i*i)\n",
        "  return result\n",
        "print(square_list(5))"
      ],
      "metadata": {
        "colab": {
          "base_uri": "https://localhost:8080/"
        },
        "id": "cUh353e8At3Z",
        "outputId": "ed3c8fa4-e30c-4c0a-eb15-23c03611079c"
      },
      "execution_count": null,
      "outputs": [
        {
          "output_type": "stream",
          "name": "stdout",
          "text": [
            "[0, 1, 4, 9, 16]\n"
          ]
        }
      ]
    },
    {
      "cell_type": "markdown",
      "source": [
        "Q8.  What is a lambda function in Python and when is it typically used ?\n",
        ">- A lambda function is a small anonymous function defined with the keyword lambda.\n",
        "\n",
        "\n"
      ],
      "metadata": {
        "id": "RwRtK0P6DLLa"
      }
    },
    {
      "cell_type": "code",
      "source": [
        "#normal function\n",
        "def add(a,b):\n",
        "  return a+b\n",
        "print(add(5,3))\n",
        "#lambda function\n",
        "add = lambda a,b: a+b\n",
        "print(add(5,3))"
      ],
      "metadata": {
        "colab": {
          "base_uri": "https://localhost:8080/"
        },
        "id": "DJ-E1D7ODHYR",
        "outputId": "4687505c-6225-4f71-a6b8-f6d47eea03c0"
      },
      "execution_count": null,
      "outputs": [
        {
          "output_type": "stream",
          "name": "stdout",
          "text": [
            "8\n",
            "8\n"
          ]
        }
      ]
    },
    {
      "cell_type": "markdown",
      "source": [
        "Typical Uses:\n",
        "\n",
        "1. With map() - apply a function to all items:\n"
      ],
      "metadata": {
        "id": "n4mbu1EVE7JW"
      }
    },
    {
      "cell_type": "code",
      "source": [
        "nums = [1, 2, 3, 4]\n",
        "squared = list(map(lambda x: x**2, nums))\n",
        "print(squared)"
      ],
      "metadata": {
        "colab": {
          "base_uri": "https://localhost:8080/"
        },
        "id": "InkK7d0GEXgD",
        "outputId": "204917a4-9fd7-4f2a-f55b-abbf289f296f"
      },
      "execution_count": null,
      "outputs": [
        {
          "output_type": "stream",
          "name": "stdout",
          "text": [
            "[1, 4, 9, 16]\n"
          ]
        }
      ]
    },
    {
      "cell_type": "markdown",
      "source": [
        "2. With filter() - filter items:\n"
      ],
      "metadata": {
        "id": "TeySinqkFXpZ"
      }
    },
    {
      "cell_type": "code",
      "source": [
        "num = [1, 2, 3, 4, 5]\n",
        "even = list(filter(lambda x: x % 2 == 0, nums))\n",
        "print(even)"
      ],
      "metadata": {
        "colab": {
          "base_uri": "https://localhost:8080/"
        },
        "id": "UyJFGKc4FWJ8",
        "outputId": "870e30f2-a2ab-45dc-fce2-d609cb5e9540"
      },
      "execution_count": null,
      "outputs": [
        {
          "output_type": "stream",
          "name": "stdout",
          "text": [
            "[2, 4]\n"
          ]
        }
      ]
    },
    {
      "cell_type": "markdown",
      "source": [
        "3. With sorted() - custom sorting:\n"
      ],
      "metadata": {
        "id": "BNDY9sawFnlO"
      }
    },
    {
      "cell_type": "code",
      "source": [
        "pairs = [(1, 'a'), (2, 'b'), (3, 'c'), (4, 'd')]\n",
        "sorted_pairs = sorted(pairs, key=lambda pair: pair[1])\n",
        "print(sorted_pairs)\n"
      ],
      "metadata": {
        "colab": {
          "base_uri": "https://localhost:8080/"
        },
        "id": "yVqCUVEHFlwt",
        "outputId": "b3696180-9627-4c79-cac3-023f1c3aacd0"
      },
      "execution_count": null,
      "outputs": [
        {
          "output_type": "stream",
          "name": "stdout",
          "text": [
            "[(1, 'a'), (2, 'b'), (3, 'c'), (4, 'd')]\n"
          ]
        }
      ]
    },
    {
      "cell_type": "markdown",
      "source": [
        "Q9.  Explain the purpose and usage of the `map()` function in Python ?\n",
        ">- Map function execute a specified function for each of item of an iterable.\n",
        "\n",
        ">- it is useful when you want to transform all items of an iterable without using a loop explicitly.\n",
        "\n"
      ],
      "metadata": {
        "id": "FrMEg-GYF-kQ"
      }
    },
    {
      "cell_type": "code",
      "source": [
        "# using map() with a lambda function\n",
        "numbers = [1, 2, 3, 4, 5]\n",
        "squared_numbers = map(lambda x: x**2, numbers)\n",
        "print(list(squared_numbers))"
      ],
      "metadata": {
        "colab": {
          "base_uri": "https://localhost:8080/"
        },
        "id": "TA4jgJXSFzjE",
        "outputId": "4dd5b338-0f11-4985-c42f-83cc342c2a15"
      },
      "execution_count": null,
      "outputs": [
        {
          "output_type": "stream",
          "name": "stdout",
          "text": [
            "[1, 4, 9, 16, 25]\n"
          ]
        }
      ]
    },
    {
      "cell_type": "code",
      "source": [
        "# using map() with a defined function\n",
        "def square(num):\n",
        "  return num**2\n",
        "numbers = [1, 2, 3, 4, 5]\n",
        "squared_numbers = map(square, numbers)\n",
        "print(list(squared_numbers))"
      ],
      "metadata": {
        "colab": {
          "base_uri": "https://localhost:8080/"
        },
        "id": "3DR2wBVSw48f",
        "outputId": "e0994d62-3b13-4ce8-8bb8-b31187ba6676"
      },
      "execution_count": null,
      "outputs": [
        {
          "output_type": "stream",
          "name": "stdout",
          "text": [
            "[1, 4, 9, 16, 25]\n"
          ]
        }
      ]
    },
    {
      "cell_type": "markdown",
      "source": [
        "Q10. What is the difference between `map()`, `reduce()`, and `filter()` functions in Python?\n",
        "\n",
        ">- 1. Map() - applies a function to each element of an iterable.\n",
        "       "
      ],
      "metadata": {
        "id": "OgGPvwtMx5vW"
      }
    },
    {
      "cell_type": "code",
      "source": [
        "number = [1, 2, 3, 4,5,]\n",
        "squared_numbers = map(lambda x: x**2, numbers)\n",
        "print(list(squared_numbers))"
      ],
      "metadata": {
        "colab": {
          "base_uri": "https://localhost:8080/"
        },
        "id": "Fipu5mDDx4Bz",
        "outputId": "8f723f0c-a83b-4b95-cf20-077683eb27aa"
      },
      "execution_count": null,
      "outputs": [
        {
          "output_type": "stream",
          "name": "stdout",
          "text": [
            "[1, 4, 9, 16, 25]\n"
          ]
        }
      ]
    },
    {
      "cell_type": "markdown",
      "source": [
        ">- 2. Filter() - filters elements of an iterable based on a condition (True/False).\n"
      ],
      "metadata": {
        "id": "6X9hIUwfzXgA"
      }
    },
    {
      "cell_type": "code",
      "source": [
        "numbers = [1, 2, 3, 4, 5,]\n",
        "even_numbers = filter(lambda x: x % 2 == 0, numbers)\n",
        "print(list(even_numbers))"
      ],
      "metadata": {
        "colab": {
          "base_uri": "https://localhost:8080/"
        },
        "id": "0T6NvSR0zUma",
        "outputId": "c35b6db8-6e27-49f5-9402-aedfdee80654"
      },
      "execution_count": null,
      "outputs": [
        {
          "output_type": "stream",
          "name": "stdout",
          "text": [
            "[2, 4]\n"
          ]
        }
      ]
    },
    {
      "cell_type": "markdown",
      "source": [
        ">-  3. Reduce() - repeatedly applies a function to the elements of an iterable , reducing it to a single value.   "
      ],
      "metadata": {
        "id": "k40th3S-z5oG"
      }
    },
    {
      "cell_type": "code",
      "source": [
        "from functools import reduce\n",
        "numbers = [1, 2, 3, 4, 5]\n",
        "product = reduce(lambda x, y: x * y, numbers)\n",
        "print(product)"
      ],
      "metadata": {
        "colab": {
          "base_uri": "https://localhost:8080/"
        },
        "id": "3UGlrV8QzxUs",
        "outputId": "bf787c49-9e71-4e52-bd8a-521d465532d7"
      },
      "execution_count": null,
      "outputs": [
        {
          "output_type": "stream",
          "name": "stdout",
          "text": [
            "120\n"
          ]
        }
      ]
    },
    {
      "cell_type": "markdown",
      "source": [
        "Q11. Using pen & Paper write the internal mechanism for sum operation using  reduce function on this given\n",
        "list:[47,11,42,13];\n",
        ">-Internal Mechanism of reduce():\n",
        "\n",
        "1. reduce() takes a function and an iterable. The function must take two arguments.\n",
        "\n",
        "\n",
        "2. It applies the function cumulatively to the items of the iterable, from left to right.\n",
        "\n",
        "\n",
        "3. Step-by-step calculation for our list [47, 11, 42, 13]:\n",
        "\n",
        "\n",
        "\n",
        "Step\tx\ty\tOperation (x + y)\tResult\n",
        "\n",
        "1.\t47\t11\t47 + 11\t58\n",
        "\n",
        "2.\t58\t42\t58 + 42\t100\n",
        "\n",
        "3.\t100\t13\t100 + 13\t113\n",
        "\n",
        "\n",
        "After the last element, reduce() returns 113.\n",
        "\n",
        "\n",
        "\n",
        "---\n",
        "\n",
        "So internally, reduce() is like chaining the function across elements:\n",
        "\n",
        "temp = 47\n",
        "\n",
        "temp = temp + 11   # 58\n",
        "\n",
        "temp = temp + 42   # 100\n",
        "\n",
        "temp = temp + 13   # 113\n"
      ],
      "metadata": {
        "id": "FumGZD_Z0fCN"
      }
    },
    {
      "cell_type": "code",
      "source": [
        "from functools import reduce\n",
        "\n",
        "numbers = [47, 11, 42, 13]\n",
        "\n",
        "# Using reduce to sum all elements\n",
        "result = reduce(lambda x, y: x + y, numbers)\n",
        "\n",
        "print(result)"
      ],
      "metadata": {
        "colab": {
          "base_uri": "https://localhost:8080/"
        },
        "id": "18snhm3FxuXx",
        "outputId": "32d2cb11-4a99-45d0-efec-b41c831d0660"
      },
      "execution_count": 83,
      "outputs": [
        {
          "output_type": "stream",
          "name": "stdout",
          "text": [
            "113\n"
          ]
        }
      ]
    },
    {
      "cell_type": "markdown",
      "source": [
        "    Practical Question\n",
        "\n",
        "\n",
        "\n"
      ],
      "metadata": {
        "id": "hy6m2v231uBU"
      }
    },
    {
      "cell_type": "markdown",
      "source": [
        "Q1. Write a Python function that takes a list of numbers as input and returns the sum of all even numbers in\n",
        "the list ?"
      ],
      "metadata": {
        "id": "YsK7WVCH18bm"
      }
    },
    {
      "cell_type": "code",
      "source": [
        "def sum_even_numbers(numbers):\n",
        "    even_sum = 0\n",
        "    for num in numbers:\n",
        "        if num % 2 == 0:\n",
        "            even_sum += num\n",
        "    return even_sum"
      ],
      "metadata": {
        "id": "eY1VTaiV0bcv"
      },
      "execution_count": null,
      "outputs": []
    },
    {
      "cell_type": "code",
      "source": [
        "numbers = [1, 2, 3, 4, 5, 6, 7, 8, 9, 10]\n",
        "result = sum_even_numbers(numbers)\n",
        "print(sum_even_numbers(numbers))"
      ],
      "metadata": {
        "colab": {
          "base_uri": "https://localhost:8080/"
        },
        "id": "zV4RF1Dx3oA0",
        "outputId": "5bce5e4e-ce9e-469e-ef86-32b9be2b06bc"
      },
      "execution_count": null,
      "outputs": [
        {
          "output_type": "stream",
          "name": "stdout",
          "text": [
            "30\n"
          ]
        }
      ]
    },
    {
      "cell_type": "markdown",
      "source": [
        "Q2.  Create a Python function that accepts a string and returns the reverse of that string."
      ],
      "metadata": {
        "id": "Z8pGW1-e4Ryj"
      }
    },
    {
      "cell_type": "code",
      "source": [
        "def reverse_string(text):\n",
        "  return text[::-1]"
      ],
      "metadata": {
        "id": "XAOyjnjD3_pH"
      },
      "execution_count": 6,
      "outputs": []
    },
    {
      "cell_type": "code",
      "source": [
        "word = \"Shruti\"\n",
        "print(reverse_string(word))"
      ],
      "metadata": {
        "colab": {
          "base_uri": "https://localhost:8080/"
        },
        "id": "dSrDHKJ333rh",
        "outputId": "7823767f-757c-4558-9d1c-559dee9a2922"
      },
      "execution_count": 7,
      "outputs": [
        {
          "output_type": "stream",
          "name": "stdout",
          "text": [
            "iturhS\n"
          ]
        }
      ]
    },
    {
      "cell_type": "markdown",
      "source": [
        "Q3.  Implement a Python function that takes a list of integers and returns a new list containing the squares of\n",
        "each number ?"
      ],
      "metadata": {
        "id": "cLCKwiTD41Hf"
      }
    },
    {
      "cell_type": "code",
      "source": [
        "def square_list(numbers):\n",
        "  return [x**2 for x in numbers]\n",
        ""
      ],
      "metadata": {
        "id": "0U9s9wHLTuS8"
      },
      "execution_count": 14,
      "outputs": []
    },
    {
      "cell_type": "code",
      "source": [
        "print(square_list ( [1, 2, 6, 5, 8,9]))\n"
      ],
      "metadata": {
        "colab": {
          "base_uri": "https://localhost:8080/"
        },
        "id": "tBbd_kbX4eWv",
        "outputId": "29f1bff9-18f3-406b-90a6-b4be2e367a9e"
      },
      "execution_count": 13,
      "outputs": [
        {
          "output_type": "stream",
          "name": "stdout",
          "text": [
            "[1, 4, 36, 25, 64, 81]\n"
          ]
        }
      ]
    },
    {
      "cell_type": "markdown",
      "source": [
        "Q4. Write a Python function that checks if a given number is prime or not from 1 to 200.\n",
        "\n",
        "\n"
      ],
      "metadata": {
        "id": "0gyVuqBfWrbq"
      }
    },
    {
      "cell_type": "code",
      "source": [
        "def is_prime(number):\n",
        "    if number < 2:\n",
        "        return False\n",
        "    for i in range(2, number):\n",
        "        if number % i == 0:\n",
        "            return False\n",
        "        return True\n",
        "for num in range(1, 201):\n",
        "    if is_prime(num):\n",
        "        print(num, end=\" \")"
      ],
      "metadata": {
        "colab": {
          "base_uri": "https://localhost:8080/"
        },
        "id": "5bakGcgOTDsf",
        "outputId": "d3664523-0188-49b0-a256-2623332873e6"
      },
      "execution_count": 29,
      "outputs": [
        {
          "output_type": "stream",
          "name": "stdout",
          "text": [
            "3 5 7 9 11 13 15 17 19 21 23 25 27 29 31 33 35 37 39 41 43 45 47 49 51 53 55 57 59 61 63 65 67 69 71 73 75 77 79 81 83 85 87 89 91 93 95 97 99 101 103 105 107 109 111 113 115 117 119 121 123 125 127 129 131 133 135 137 139 141 143 145 147 149 151 153 155 157 159 161 163 165 167 169 171 173 175 177 179 181 183 185 187 189 191 193 195 197 199 "
          ]
        }
      ]
    },
    {
      "cell_type": "markdown",
      "source": [
        "Q5. Create an iterator class in Python that generates the Fibonacci sequence up to a specified number of\n",
        "terms."
      ],
      "metadata": {
        "id": "E2axbX9Ta-xa"
      }
    },
    {
      "cell_type": "code",
      "source": [
        "class Fabonacci:\n",
        "  def __init__(self,n):\n",
        "    self.n = n\n",
        "    self.a, self.b = 0, 1\n",
        "    def __iter__(self):\n",
        "      return self\n",
        "  def __next__(self):\n",
        "    if self.n <= 0:\n",
        "      raise StopIteration\n",
        "    result = self.a\n",
        "    self.a, self.b = self.b, self.a + self\n",
        "\n",
        "    for num in Fabonacci(10):\n",
        "      print(num, end=\" \")"
      ],
      "metadata": {
        "id": "1IJOCps3bzc7"
      },
      "execution_count": 81,
      "outputs": []
    },
    {
      "cell_type": "markdown",
      "source": [
        "Q6. Write a generator function in Python that yields the powers of 2 up to a given exponent."
      ],
      "metadata": {
        "id": "olCi7LqkjhS2"
      }
    },
    {
      "cell_type": "code",
      "source": [
        "def power_of_2(n):\n",
        "    for i in range(n):\n",
        "        yield 2 ** i"
      ],
      "metadata": {
        "id": "2sXmw1NIjpum"
      },
      "execution_count": 46,
      "outputs": []
    },
    {
      "cell_type": "code",
      "source": [
        "for power in power_of_2(5):\n",
        "    print(power)"
      ],
      "metadata": {
        "colab": {
          "base_uri": "https://localhost:8080/"
        },
        "id": "9IQZ9GXij8Wy",
        "outputId": "ecc864f0-5d70-4bc5-dd1c-72b0dac8376d"
      },
      "execution_count": 47,
      "outputs": [
        {
          "output_type": "stream",
          "name": "stdout",
          "text": [
            "1\n",
            "2\n",
            "4\n",
            "8\n",
            "16\n"
          ]
        }
      ]
    },
    {
      "cell_type": "markdown",
      "source": [
        "Q7. Implement a generator function that reads a file line by line and yields each line as a string\n",
        "\n"
      ],
      "metadata": {
        "id": "M_6uLil6jodH"
      }
    },
    {
      "cell_type": "code",
      "source": [
        "def my_gen():\n",
        "      yield \"Python\"\n",
        "      yield \"is\"\n",
        "      yield \"fun\"\n",
        "\n",
        "\n",
        "gen = my_gen()\n",
        "print(next(gen), next(gen), next(gen))\n",
        "\n"
      ],
      "metadata": {
        "colab": {
          "base_uri": "https://localhost:8080/"
        },
        "id": "r6ZUYD9Qlglz",
        "outputId": "df304ee8-5bac-425c-d0f9-769656187229"
      },
      "execution_count": 76,
      "outputs": [
        {
          "output_type": "stream",
          "name": "stdout",
          "text": [
            "Python is fun\n"
          ]
        }
      ]
    },
    {
      "cell_type": "markdown",
      "source": [
        "Q8.  Use a lambda function in Python to sort a list of tuples based on the second element of each tuple."
      ],
      "metadata": {
        "id": "lCp15U32pbxE"
      }
    },
    {
      "cell_type": "code",
      "source": [
        "# list of tuple\n",
        "data = [(1, 3), (5, 6), (4, 6)]\n",
        "#sort by second element\n",
        "sorted_data = sorted(data, key=lambda x: x[1])\n",
        "print(sorted_data)"
      ],
      "metadata": {
        "colab": {
          "base_uri": "https://localhost:8080/"
        },
        "id": "ngY1fPs7oK13",
        "outputId": "b81c48ab-6b21-485f-e538-39807ba58b3f"
      },
      "execution_count": 71,
      "outputs": [
        {
          "output_type": "stream",
          "name": "stdout",
          "text": [
            "[(1, 3), (5, 6), (4, 6)]\n"
          ]
        }
      ]
    },
    {
      "cell_type": "markdown",
      "source": [
        "Q9.  Write a Python program that uses `map()` to convert a list of temperatures from Celsius to Fahrenheit."
      ],
      "metadata": {
        "id": "N6MusraOp9OU"
      }
    },
    {
      "cell_type": "code",
      "source": [
        "#list of tempratures in celsius\n",
        "celsius = [0, 20, 37, 100]\n",
        "def celsius_to_fahrenheit(celsius):\n",
        "    return (celsius * 9/5) + 32\n",
        "fahrenheit = list(map(celsius_to_fahrenheit, celsius))\n",
        "print(fahrenheit)"
      ],
      "metadata": {
        "colab": {
          "base_uri": "https://localhost:8080/"
        },
        "id": "Vvl1fUHep7IF",
        "outputId": "fa02695b-d931-4506-d660-9c4f6d4f2f74"
      },
      "execution_count": 72,
      "outputs": [
        {
          "output_type": "stream",
          "name": "stdout",
          "text": [
            "[32.0, 68.0, 98.6, 212.0]\n"
          ]
        }
      ]
    },
    {
      "cell_type": "markdown",
      "source": [
        "Q10. Create a Python program that uses `filter()` to remove all the vowels from a given string."
      ],
      "metadata": {
        "id": "uxQPZD2Yqiej"
      }
    },
    {
      "cell_type": "code",
      "source": [
        "text = \"Hello, World\"\n",
        "def not_vowel(char):\n",
        "    vowels = 'aeiouAEIOU'\n",
        "    return char not in vowels\n",
        "filtered_text = ''.join(filter(not_vowel, text))\n",
        "print(filtered_text)\n"
      ],
      "metadata": {
        "colab": {
          "base_uri": "https://localhost:8080/"
        },
        "id": "Ql48Km1dqhBf",
        "outputId": "b3d60ab8-0cd8-4add-d95d-100cd1015edb"
      },
      "execution_count": 73,
      "outputs": [
        {
          "output_type": "stream",
          "name": "stdout",
          "text": [
            "Hll, Wrld\n"
          ]
        }
      ]
    },
    {
      "cell_type": "code",
      "source": [],
      "metadata": {
        "id": "7IPetr5trCEs"
      },
      "execution_count": null,
      "outputs": []
    }
  ]
}